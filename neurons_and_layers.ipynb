{
  "nbformat": 4,
  "nbformat_minor": 0,
  "metadata": {
    "colab": {
      "name": "neurons-and-layers.ipynb",
      "provenance": [],
      "collapsed_sections": []
    },
    "kernelspec": {
      "name": "python3",
      "display_name": "Python 3"
    },
    "language_info": {
      "name": "python"
    }
  },
  "cells": [
    {
      "cell_type": "code",
      "execution_count": 10,
      "metadata": {
        "id": "5Q6ka53LClCx"
      },
      "outputs": [],
      "source": [
        "import numpy as np\n",
        "import matplotlib.pyplot as plt\n",
        "import tensorflow as tf\n",
        "from tensorflow.keras.layers import Dense, Input\n",
        "from tensorflow.keras import Sequential\n",
        "from tensorflow.keras.losses import MeanSquaredError, BinaryCrossentropy\n",
        "from tensorflow.keras.activations import sigmoid\n",
        "import logging\n",
        "logging.getLogger(\"tensorflow\").setLevel(logging.ERROR)\n",
        "tf.autograph.set_verbosity(0)"
      ]
    },
    {
      "cell_type": "code",
      "source": [
        "X_train = np.array([[1.0], [2.0]], dtype=np.float32)           #(size in 1000 square feet)\n",
        "Y_train = np.array([[300.0], [500.0]], dtype=np.float32)       #(price in 1000s of dollars)\n",
        "\n",
        "fig, ax = plt.subplots(1,1)\n",
        "ax.scatter(X_train, Y_train, marker='x', c='r', label=\"Data Points\")\n",
        "ax.legend( fontsize='xx-large')\n",
        "ax.set_ylabel('Price (in 1000s of dollars)', fontsize='xx-large')\n",
        "ax.set_xlabel('Size (1000 sqft)', fontsize='xx-large')\n",
        "plt.show()"
      ],
      "metadata": {
        "colab": {
          "base_uri": "https://localhost:8080/",
          "height": 289
        },
        "id": "ofXTmG_tDqiR",
        "outputId": "fef02a09-9988-4ddb-dd28-6c32148c79f5"
      },
      "execution_count": 11,
      "outputs": [
        {
          "output_type": "display_data",
          "data": {
            "text/plain": [
              "<Figure size 432x288 with 1 Axes>"
            ],
            "image/png": "[encoded data removed]"
          },
          "metadata": {
            "needs_background": "light"
          }
        }
      ]
    },
    {
      "cell_type": "code",
      "source": [
        "linear_layer = tf.keras.layers.Dense(units=1, activation = 'linear', )"
      ],
      "metadata": {
        "id": "h4jS_wwTD1b6"
      },
      "execution_count": 12,
      "outputs": []
    },
    {
      "cell_type": "code",
      "source": [
        "linear_layer.get_weights()"
      ],
      "metadata": {
        "colab": {
          "base_uri": "https://localhost:8080/"
        },
        "id": "gegNZjAzEA00",
        "outputId": "37028fad-7940-45f4-e368-31ce7854da6f"
      },
      "execution_count": 13,
      "outputs": [
        {
          "output_type": "execute_result",
          "data": {
            "text/plain": [
              "[]"
            ]
          },
          "metadata": {},
          "execution_count": 13
        }
      ]
    },
    {
      "cell_type": "code",
      "source": [
        "a1 = linear_layer(X_train[0].reshape(1,1))\n",
        "print(a1)"
      ],
      "metadata": {
        "colab": {
          "base_uri": "https://localhost:8080/"
        },
        "id": "90Ys3sKPFXw4",
        "outputId": "d5c7f487-45ed-4d6a-a1be-52d1b76fb17f"
      },
      "execution_count": 14,
      "outputs": [
        {
          "output_type": "stream",
          "name": "stdout",
          "text": [
            "tf.Tensor([[1.6977934]], shape=(1, 1), dtype=float32)\n"
          ]
        }
      ]
    },
    {
      "cell_type": "code",
      "source": [
        "w, b= linear_layer.get_weights()\n",
        "print(f\"w = {w}, b={b}\")"
      ],
      "metadata": {
        "colab": {
          "base_uri": "https://localhost:8080/"
        },
        "id": "EblCYr9cG5xe",
        "outputId": "fc3d5cb6-a36a-4945-fbab-209fe7866ff7"
      },
      "execution_count": 15,
      "outputs": [
        {
          "output_type": "stream",
          "name": "stdout",
          "text": [
            "w = [[1.6977934]], b=[0.]\n"
          ]
        }
      ]
    },
    {
      "cell_type": "code",
      "source": [
        "set_w = np.array([[200]])\n",
        "set_b = np.array([100])\n",
        "\n",
        "# set_weights takes a list of numpy arrays\n",
        "linear_layer.set_weights([set_w, set_b])\n",
        "print(linear_layer.get_weights())"
      ],
      "metadata": {
        "colab": {
          "base_uri": "https://localhost:8080/"
        },
        "id": "fonFV-UNG93M",
        "outputId": "e5a15e82-f720-485c-ae17-ec2a0c413618"
      },
      "execution_count": 16,
      "outputs": [
        {
          "output_type": "stream",
          "name": "stdout",
          "text": [
            "[array([[200.]], dtype=float32), array([100.], dtype=float32)]\n"
          ]
        }
      ]
    },
    {
      "cell_type": "code",
      "source": [
        "a1 = linear_layer(X_train[0].reshape(1,1))\n",
        "print(a1)\n",
        "alin = np.dot(set_w,X_train[0].reshape(1,1)) + set_b\n",
        "print(alin)"
      ],
      "metadata": {
        "colab": {
          "base_uri": "https://localhost:8080/"
        },
        "id": "wtsngs8VHF38",
        "outputId": "acd1ae71-141e-4f43-e7b4-98c447433105"
      },
      "execution_count": 17,
      "outputs": [
        {
          "output_type": "stream",
          "name": "stdout",
          "text": [
            "tf.Tensor([[300.]], shape=(1, 1), dtype=float32)\n",
            "[[300.]]\n"
          ]
        }
      ]
    },
    {
      "cell_type": "code",
      "source": [
        "dlc = dict(dlblue = '#0096ff', dlorange = '#FF9300', dldarkred='#C00000', dlmagenta='#FF40FF', dlpurple='#7030A0', dldarkblue =  '#0D5BDC')"
      ],
      "metadata": {
        "id": "Xfjo5s0DH7He"
      },
      "execution_count": 21,
      "outputs": []
    },
    {
      "cell_type": "code",
      "source": [
        "def plt_linear(X_train, Y_train, prediction_tf, prediction_np):\n",
        "    fig, ax = plt.subplots(1,2, figsize=(16,4))\n",
        "    ax[0].scatter(X_train, Y_train, marker='x', c='r', label=\"Data Points\")\n",
        "    ax[0].plot(X_train, prediction_tf,  c=dlc['dlblue'], label=\"model output\")\n",
        "    ax[0].text(1.6,350,r\"y=$200 x + 100$\", fontsize='xx-large', color=dlc['dlmagenta'])\n",
        "    ax[0].legend(fontsize='xx-large')\n",
        "    ax[0].set_ylabel('Price (in 1000s of dollars)', fontsize='xx-large')\n",
        "    ax[0].set_xlabel('Size (1000 sqft)', fontsize='xx-large')\n",
        "    ax[0].set_title(\"Tensorflow prediction\",fontsize='xx-large')\n",
        "\n",
        "    ax[1].scatter(X_train, Y_train, marker='x', c='r', label=\"Data Points\")\n",
        "    ax[1].plot(X_train, prediction_np,  c=dlc['dlblue'], label=\"model output\")\n",
        "    ax[1].text(1.6,350,r\"y=$200 x + 100$\", fontsize='xx-large', color=dlc['dlmagenta'])\n",
        "    ax[1].legend(fontsize='xx-large')\n",
        "    ax[1].set_ylabel('Price (in 1000s of dollars)', fontsize='xx-large')\n",
        "    ax[1].set_xlabel('Size (1000 sqft)', fontsize='xx-large')\n",
        "    ax[1].set_title(\"Numpy prediction\",fontsize='xx-large')\n",
        "    plt.show()"
      ],
      "metadata": {
        "id": "cz7XscSLHkYi"
      },
      "execution_count": 22,
      "outputs": []
    },
    {
      "cell_type": "code",
      "source": [
        "prediction_tf = linear_layer(X_train)\n",
        "prediction_np = np.dot( X_train, set_w) + set_b\n",
        "plt_linear(X_train, Y_train, prediction_tf, prediction_np)"
      ],
      "metadata": {
        "colab": {
          "base_uri": "https://localhost:8080/",
          "height": 307
        },
        "id": "42ggal2HHM0M",
        "outputId": "e16783ba-2e7f-4792-fa56-d3cfbe329e2e"
      },
      "execution_count": 23,
      "outputs": [
        {
          "output_type": "display_data",
          "data": {
            "text/plain": [
              "<Figure size 1152x288 with 2 Axes>"
            ],
            "image/png": "[encoded data removed]"
          },
          "metadata": {
            "needs_background": "light"
          }
        }
      ]
    },
    {
      "cell_type": "code",
      "source": [
        "X_train = np.array([0., 1, 2, 3, 4, 5], dtype=np.float32).reshape(-1,1)  # 2-D Matrix\n",
        "Y_train = np.array([0,  0, 0, 1, 1, 1], dtype=np.float32).reshape(-1,1)  # 2-D Matrix"
      ],
      "metadata": {
        "id": "Mj11uHXVH-t8"
      },
      "execution_count": 24,
      "outputs": []
    },
    {
      "cell_type": "code",
      "source": [
        "pos = Y_train == 1\n",
        "neg = Y_train == 0\n",
        "X_train[pos]"
      ],
      "metadata": {
        "colab": {
          "base_uri": "https://localhost:8080/"
        },
        "id": "xvnGZ45LIDR3",
        "outputId": "cd052d21-9593-4272-a8d7-34d7a3633b8c"
      },
      "execution_count": 25,
      "outputs": [
        {
          "output_type": "execute_result",
          "data": {
            "text/plain": [
              "array([3., 4., 5.], dtype=float32)"
            ]
          },
          "metadata": {},
          "execution_count": 25
        }
      ]
    },
    {
      "cell_type": "code",
      "source": [
        "model = Sequential(\n",
        "    [\n",
        "        tf.keras.layers.Dense(1, input_dim=1,  activation = 'sigmoid', name='L1')\n",
        "    ]\n",
        ")"
      ],
      "metadata": {
        "id": "wDJw0-unILYo"
      },
      "execution_count": 26,
      "outputs": []
    },
    {
      "cell_type": "code",
      "source": [
        "model.summary()"
      ],
      "metadata": {
        "colab": {
          "base_uri": "https://localhost:8080/"
        },
        "id": "lEDrkXBsIPQQ",
        "outputId": "10590d0c-5d11-4d8d-dc03-d6cb1faf34a4"
      },
      "execution_count": 27,
      "outputs": [
        {
          "output_type": "stream",
          "name": "stdout",
          "text": [
            "Model: \"sequential\"\n",
            "_________________________________________________________________\n",
            " Layer (type)                Output Shape              Param #   \n",
            "=================================================================\n",
            " L1 (Dense)                  (None, 1)                 2         \n",
            "                                                                 \n",
            "=================================================================\n",
            "Total params: 2\n",
            "Trainable params: 2\n",
            "Non-trainable params: 0\n",
            "_________________________________________________________________\n"
          ]
        }
      ]
    },
    {
      "cell_type": "code",
      "source": [
        "logistic_layer = model.get_layer('L1')\n",
        "w,b = logistic_layer.get_weights()\n",
        "print(w,b)\n",
        "print(w.shape,b.shape)"
      ],
      "metadata": {
        "colab": {
          "base_uri": "https://localhost:8080/"
        },
        "id": "GaoYjJwAISlV",
        "outputId": "f898ae76-f27e-47db-d7df-17159a9ed7cd"
      },
      "execution_count": 28,
      "outputs": [
        {
          "output_type": "stream",
          "name": "stdout",
          "text": [
            "[[0.33081424]] [0.]\n",
            "(1, 1) (1,)\n"
          ]
        }
      ]
    },
    {
      "cell_type": "code",
      "source": [
        "set_w = np.array([[2]])\n",
        "set_b = np.array([-4.5])\n",
        "# set_weights takes a list of numpy arrays\n",
        "logistic_layer.set_weights([set_w, set_b])\n",
        "print(logistic_layer.get_weights())"
      ],
      "metadata": {
        "colab": {
          "base_uri": "https://localhost:8080/"
        },
        "id": "wmxqdM8fIW_E",
        "outputId": "d38dd11e-39bd-412c-b5e0-16e0b87c4afd"
      },
      "execution_count": 29,
      "outputs": [
        {
          "output_type": "stream",
          "name": "stdout",
          "text": [
            "[array([[2.]], dtype=float32), array([-4.5], dtype=float32)]\n"
          ]
        }
      ]
    },
    {
      "cell_type": "code",
      "source": [
        "a1 = model.predict(X_train[0].reshape(1,1))\n",
        "print(a1)"
      ],
      "metadata": {
        "colab": {
          "base_uri": "https://localhost:8080/"
        },
        "id": "Y1CBqU-eIcBz",
        "outputId": "99dc4af4-8efc-493e-8572-f8540cffbccd"
      },
      "execution_count": 33,
      "outputs": [
        {
          "output_type": "stream",
          "name": "stdout",
          "text": [
            "[[0.01098695]]\n"
          ]
        }
      ]
    }
  ]
}